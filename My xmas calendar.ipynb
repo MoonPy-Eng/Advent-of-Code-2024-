{
 "cells": [
  {
   "cell_type": "code",
   "execution_count": 1,
   "metadata": {},
   "outputs": [
    {
     "name": "stdout",
     "output_type": "stream",
     "text": [
      "**************************************************\n",
      "There are 4 days left until Christmas! 🎄\n",
      "🎁 🎁 🎁 🎁 \n",
      "**************************************************\n"
     ]
    }
   ],
   "source": [
    "from datetime import date\n",
    "\n",
    "# Function to calculate days until Christmas\n",
    "def days_until_christmas():\n",
    "    current_date = date.today()\n",
    "    christmas_date = date(current_date.year, 12, 25)\n",
    "    \n",
    "    # Check if Christmas has already passed this year\n",
    "    if current_date > christmas_date:\n",
    "        christmas_date = christmas_date.replace(year=current_date.year + 1)\n",
    "    days_left = (christmas_date - current_date).days\n",
    "    \n",
    "    return days_left\n",
    "\n",
    "# Function to print gift boxes\n",
    "def print_gift_boxes(days_left):\n",
    "    print(\"*\" * 50)\n",
    "    if days_left == 0:\n",
    "        print(\"🎄 Merry Christmas! 🎅🏻\")\n",
    "        print(\"\\n\" + \"🦌\" * 11)                   \n",
    "    else:\n",
    "        print(f\"There are {days_left} days left until Christmas! 🎄\")\n",
    "        for _ in range(days_left):\n",
    "            print(\"🎁 \", end=\"\")\n",
    "    print(\"\\n\" + \"*\" * 50)\n",
    "\n",
    "# Main Program\n",
    "days_left = days_until_christmas()\n",
    "print_gift_boxes(days_left)\n"
   ]
  }
 ],
 "metadata": {
  "kernelspec": {
   "display_name": "pymoon",
   "language": "python",
   "name": "python3"
  },
  "language_info": {
   "codemirror_mode": {
    "name": "ipython",
    "version": 3
   },
   "file_extension": ".py",
   "mimetype": "text/x-python",
   "name": "python",
   "nbconvert_exporter": "python",
   "pygments_lexer": "ipython3",
   "version": "3.13.0"
  }
 },
 "nbformat": 4,
 "nbformat_minor": 2
}

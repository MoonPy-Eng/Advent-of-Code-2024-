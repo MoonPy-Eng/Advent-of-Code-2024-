{
 "cells": [
  {
   "cell_type": "code",
   "execution_count": 1,
   "metadata": {},
   "outputs": [
    {
     "name": "stdout",
     "output_type": "stream",
     "text": [
      "🎄Merry Christmas🎄!\n"
     ]
    }
   ],
   "source": [
    "from datetime import date\n",
    "\n",
    "# Function to calculate days until Christmas\n",
    "def days_until_christmas():\n",
    "    current_date = date.today()\n",
    "    \n",
    "    christmas_date = date(current_date.year, 12, 25)\n",
    "    \n",
    "    # Check if Christmas has already passed this year\n",
    "    if current_date > christmas_date:\n",
    "        christmas_date = christmas_date.replace(year=current_date.year + 1)\n",
    "    days_left = (christmas_date - current_date).days\n",
    "    \n",
    "    return days_left\n",
    "\n",
    "# Main Program\n",
    "days_left = days_until_christmas()\n",
    "\n",
    "if days_left == 0:\n",
    "    print(\"🎄Merry Christmas🎄!\")\n",
    "else:\n",
    "    print(f\"There are {days_left} days left until Christmas🎄.\")\n"
   ]
  }
 ],
 "metadata": {
  "kernelspec": {
   "display_name": "Python 3",
   "language": "python",
   "name": "python3"
  },
  "language_info": {
   "codemirror_mode": {
    "name": "ipython",
    "version": 3
   },
   "file_extension": ".py",
   "mimetype": "text/x-python",
   "name": "python",
   "nbconvert_exporter": "python",
   "pygments_lexer": "ipython3",
   "version": "3.12.6"
  }
 },
 "nbformat": 4,
 "nbformat_minor": 2
}
